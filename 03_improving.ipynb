{
 "cells": [
  {
   "cell_type": "markdown",
   "metadata": {},
   "source": [
    "# Assignment 3: Improving the Index"
   ]
  },
  {
   "cell_type": "markdown",
   "metadata": {},
   "source": [
    "In this assignment, we will improve the search index and query functions from the previous assignment."
   ]
  },
  {
   "cell_type": "markdown",
   "metadata": {},
   "source": [
    "## Loading the Data and Defining Auxiliary Functions"
   ]
  },
  {
   "cell_type": "markdown",
   "metadata": {},
   "source": [
    "This section is copied from the previous notebook."
   ]
  },
  {
   "cell_type": "code",
   "execution_count": 1,
   "metadata": {
    "tags": []
   },
   "outputs": [],
   "source": [
    "import pickle, bz2, re\n",
    "from collections import namedtuple, defaultdict, Counter\n",
    "from IPython.display import display, HTML\n",
    "from math import log10, sqrt\n",
    "\n",
    "\n",
    "Summaries_file = 'recognition_Summaries.pkl.bz2'\n",
    "Abstracts_file = 'recognition_Abstracts.pkl.bz2'\n",
    "\n",
    "Summaries = pickle.load( bz2.BZ2File( Summaries_file, 'rb' ) )\n",
    "Abstracts = pickle.load( bz2.BZ2File( Abstracts_file, 'rb' ) )\n",
    "\n",
    "paper = namedtuple( 'paper', ['title', 'authors', 'year', 'doi'] )\n",
    "for (id, paper_info) in Summaries.items():\n",
    "    Summaries[id] = paper( *paper_info )"
   ]
  },
  {
   "cell_type": "code",
   "execution_count": 2,
   "metadata": {
    "tags": []
   },
   "outputs": [],
   "source": [
    "def tokenize(text):\n",
    "    \"\"\"\n",
    "    Function that tokenizes a string in a rather naive way. Can be extended later.\n",
    "    \"\"\"\n",
    "    return text.split(' ')\n",
    "\n",
    "def preprocess(tokens):\n",
    "    \"\"\"\n",
    "    Perform linguistic preprocessing on a list of tokens. Can be extended later.\n",
    "    \"\"\"\n",
    "    result = []\n",
    "    for token in tokens:\n",
    "        result.append(token.lower())\n",
    "    return result"
   ]
  },
  {
   "cell_type": "code",
   "execution_count": 3,
   "metadata": {
    "tags": []
   },
   "outputs": [],
   "source": [
    "def display_summary( id, show_abstract=False, show_id=True, extra_text='' ):\n",
    "    \"\"\"\n",
    "    Function for printing a paper's summary through IPython's Rich Display System.\n",
    "    Trims long author lists, and adds a link to the paper's DOI (when available).\n",
    "    \"\"\"\n",
    "    s = Summaries[id]\n",
    "    lines = []\n",
    "    title = s.title\n",
    "    if s.doi != '':\n",
    "        title = '<a href=http://dx.doi.org/{:s}>{:s}</a>'.format(s.doi, title)\n",
    "    title = '<strong>' + title + '</strong>'\n",
    "    lines.append(title)\n",
    "    authors = ', '.join( s.authors[:20] ) + ('' if len(s.authors) <= 20 else ', ...')\n",
    "    lines.append(str(s.year) + '. ' + authors)\n",
    "    if (show_abstract):\n",
    "        lines.append('<small><strong>Abstract:</strong> <em>{:s}</em></small>'.format(Abstracts[id]))\n",
    "    if (show_id):\n",
    "        lines.append('[ID: {:d}]'.format(id))\n",
    "    if (extra_text != ''):\n",
    "         lines.append(extra_text)\n",
    "    display( HTML('<br>'.join(lines)) )"
   ]
  },
  {
   "cell_type": "code",
   "execution_count": 4,
   "metadata": {
    "tags": []
   },
   "outputs": [],
   "source": [
    "inverted_index = defaultdict(list)\n",
    "\n",
    "for id in sorted(Summaries.keys()):\n",
    "    term_set = set(preprocess(tokenize(Summaries[id].title)))\n",
    "    if id in Abstracts:\n",
    "        term_set.update(preprocess(tokenize(Abstracts[id])))\n",
    "    for term in term_set:\n",
    "        inverted_index[term].append(id)"
   ]
  },
  {
   "cell_type": "markdown",
   "metadata": {},
   "source": [
    "## Stemming"
   ]
  },
  {
   "cell_type": "markdown",
   "metadata": {},
   "source": [
    "As we could see from the results of the last assignment, our simple index doesn't handle punctuation and the difference between singular and plural versions of the same word very well. We won't go much into the details of tokenization and linguistic analysis here, because we also want to focus on scoring and ranking below. Therefore, we are using an existing library for tokenizatoin and stemming, namely the NLTK package. The following line will install NLTK if necessary (or you have to follow [these instructions](http://www.nltk.org/install.html) if that doesn't work):"
   ]
  },
  {
   "cell_type": "code",
   "execution_count": 5,
   "metadata": {
    "tags": []
   },
   "outputs": [
    {
     "name": "stdout",
     "output_type": "stream",
     "text": [
      "Requirement already satisfied: nltk in /Users/jaspreetsingh/opt/anaconda3/lib/python3.9/site-packages (3.8.1)\r\n",
      "Requirement already satisfied: click in /Users/jaspreetsingh/opt/anaconda3/lib/python3.9/site-packages (from nltk) (8.0.4)\r\n",
      "Requirement already satisfied: joblib in /Users/jaspreetsingh/opt/anaconda3/lib/python3.9/site-packages (from nltk) (1.2.0)\r\n",
      "Requirement already satisfied: regex>=2021.8.3 in /Users/jaspreetsingh/opt/anaconda3/lib/python3.9/site-packages (from nltk) (2022.7.9)\r\n",
      "Requirement already satisfied: tqdm in /Users/jaspreetsingh/opt/anaconda3/lib/python3.9/site-packages (from nltk) (4.66.5)\r\n"
     ]
    }
   ],
   "source": [
    "! pip install --user nltk"
   ]
  },
  {
   "cell_type": "code",
   "execution_count": 6,
   "metadata": {
    "tags": []
   },
   "outputs": [
    {
     "name": "stdout",
     "output_type": "stream",
     "text": [
      "INPUT TEXT:\n",
      "  Good muffins cost $4.88\n",
      "in New York.  Please buy me two of them.\n",
      "\n",
      "Thanks.\n",
      "TOKENIZE:  ['Good', 'muffins', 'cost', '$4.88\\nin', 'New', 'York.', '', 'Please', 'buy', 'me', 'two', 'of', 'them.\\n\\nThanks.']\n",
      "WORD TOKENIZE:  ['Good', 'muffins', 'cost', '$', '4.88', 'in', 'New', 'York', '.', 'Please', 'buy', 'me', 'two', 'of', 'them', '.', 'Thanks', '.']\n"
     ]
    },
    {
     "name": "stderr",
     "output_type": "stream",
     "text": [
      "[nltk_data] Downloading package punkt to\n",
      "[nltk_data]     /Users/jaspreetsingh/nltk_data...\n",
      "[nltk_data]   Package punkt is already up-to-date!\n",
      "[nltk_data] Downloading package wordnet to\n",
      "[nltk_data]     /Users/jaspreetsingh/nltk_data...\n",
      "[nltk_data]   Package wordnet is already up-to-date!\n",
      "[nltk_data] Downloading package omw-1.4 to\n",
      "[nltk_data]     /Users/jaspreetsingh/nltk_data...\n",
      "[nltk_data]   Package omw-1.4 is already up-to-date!\n",
      "[nltk_data] Downloading package punkt_tab to\n",
      "[nltk_data]     /Users/jaspreetsingh/nltk_data...\n",
      "[nltk_data]   Package punkt_tab is already up-to-date!\n"
     ]
    }
   ],
   "source": [
    "from nltk.tokenize import word_tokenize\n",
    "from nltk.stem.snowball import EnglishStemmer\n",
    "import nltk\n",
    "nltk.download('punkt')\n",
    "nltk.download('wordnet')\n",
    "nltk.download('omw-1.4')\n",
    "nltk.download('punkt_tab')\n",
    "stemmer = EnglishStemmer()\n",
    "\n",
    "s = '''Good muffins cost $4.88\\nin New York.  Please buy me two of them.\\n\\nThanks.'''\n",
    "\n",
    "print('INPUT TEXT:\\n ', s)\n",
    "\n",
    "print('TOKENIZE: ', tokenize(s))\n",
    "print('WORD TOKENIZE: ', word_tokenize(s))"
   ]
  },
  {
   "cell_type": "code",
   "execution_count": 7,
   "metadata": {
    "tags": []
   },
   "outputs": [
    {
     "name": "stdout",
     "output_type": "stream",
     "text": [
      "process\n"
     ]
    }
   ],
   "source": [
    "print(stemmer.stem(\"processes\"))"
   ]
  },
  {
   "cell_type": "markdown",
   "metadata": {},
   "source": [
    "## Ranking"
   ]
  },
  {
   "cell_type": "markdown",
   "metadata": {},
   "source": [
    "Another important method to improve our search results is to rank them, which can be done by calculating a score for each document based on the matching terms from the query. One such scoring method is *tf-idf*, which comes with several variants, as explained in the lecture slides.\n",
    "\n",
    "In order to quickly calculate the scores for a term/document combination, we'll need quick access to a couple of things:\n",
    "\n",
    "- tf(t,d): How often does a term occur in a document\n",
    "- df(t): In how many documents does a term occur\n",
    "- num_documents: The number of documents in our index"
   ]
  },
  {
   "cell_type": "code",
   "execution_count": 8,
   "metadata": {
    "tags": []
   },
   "outputs": [],
   "source": [
    "tf_matrix = defaultdict(Counter)\n",
    "\n",
    "for doc_id in Summaries.keys():\n",
    "    tokens = preprocess(tokenize(Summaries[doc_id].title))\n",
    "    if (doc_id in Abstracts):\n",
    "        tokens.extend(preprocess(tokenize(Abstracts[doc_id])))\n",
    "    tf_matrix[doc_id] = Counter(tokens)\n",
    "\n",
    "def tf(t,d):\n",
    "    return float(tf_matrix[d][t])\n",
    "\n",
    "def df(t):\n",
    "    return float(len(inverted_index[t]))\n",
    "\n",
    "num_documents = float(len(Summaries))"
   ]
  },
  {
   "cell_type": "markdown",
   "metadata": {},
   "source": [
    "Let's test these functions with some examples:"
   ]
  },
  {
   "cell_type": "code",
   "execution_count": 9,
   "metadata": {
    "tags": []
   },
   "outputs": [
    {
     "name": "stdout",
     "output_type": "stream",
     "text": [
      "1.0\n",
      "11027.0\n",
      "481216.0\n"
     ]
    }
   ],
   "source": [
    "print(tf('enzyme', 33055208))\n",
    "print(df('enzyme'))\n",
    "print(num_documents)"
   ]
  },
  {
   "cell_type": "markdown",
   "metadata": {},
   "source": [
    "With these helper functions, we can now easily calculate the _tf-idf_ weights of a term in a document by implementing the weighting formula from the slides, which you will do in the assignments below."
   ]
  },
  {
   "cell_type": "markdown",
   "metadata": {},
   "source": [
    "----------"
   ]
  },
  {
   "cell_type": "markdown",
   "metadata": {},
   "source": [
    "# Tasks"
   ]
  },
  {
   "cell_type": "markdown",
   "metadata": {},
   "source": [
    "**Your name:** Jaspreet Singh"
   ]
  },
  {
   "cell_type": "markdown",
   "metadata": {},
   "source": [
    "### Task 1\n",
    "\n",
    "Implement in the code block below the `smart_tokenize_and_preprocess` function using NLTK's functions for tokenization and stemming. "
   ]
  },
  {
   "cell_type": "code",
   "execution_count": 10,
   "metadata": {
    "tags": []
   },
   "outputs": [
    {
     "name": "stdout",
     "output_type": "stream",
     "text": [
      "['book', 'about', 'inform', 'retriev', '(', 'ir', ')', 'etc', '.', 'cost', 'at', 'least', '$', '25.00', '!']\n"
     ]
    }
   ],
   "source": [
    "# Smarter linguistic processing\n",
    "\n",
    "def smart_tokenize_and_preprocess(text):\n",
    "    tokenize = word_tokenize(text)\n",
    "    #doc_words = [word.lower() for word in tokenize if word.isalpha()]  this could be used to get rid of , . ! $\n",
    "    stem = [stemmer.stem(w) for w in tokenize]\n",
    "    return stem\n",
    "    \n",
    "\n",
    "# To test it:\n",
    "print(smart_tokenize_and_preprocess(\"Books about Information Retrieval (IR) etc. cost at least $25.00!\"))"
   ]
  },
  {
   "cell_type": "markdown",
   "metadata": {},
   "source": [
    "Now we can make a smarter index based on this function. For practical purposes, the code below generates the smarter index on a subset of the data, as generating an index with stemming on the entire set would take too much time. (You don't need to change or add anything in the code block below. Just leave it as it is.)"
   ]
  },
  {
   "cell_type": "code",
   "execution_count": 11,
   "metadata": {
    "tags": []
   },
   "outputs": [],
   "source": [
    "# Below, we create our smarter index (based on a subset of the documents for demonstration purposes)\n",
    "smarter_index = defaultdict(list)\n",
    "\n",
    "# Here we define the subset (somewhat arbitrary):\n",
    "subset_of_ids = list(key for key in Summaries.keys() if 33000000 <= key < 34000000)\n",
    "\n",
    "# Building our smarter index:\n",
    "for id in sorted(subset_of_ids):\n",
    "    term_set = set(smart_tokenize_and_preprocess(Summaries[id].title))\n",
    "    if id in Abstracts:\n",
    "        term_set.update(smart_tokenize_and_preprocess(Abstracts[id]))\n",
    "    for term in term_set:\n",
    "        smarter_index[term].append(id)"
   ]
  },
  {
   "cell_type": "markdown",
   "metadata": {},
   "source": [
    "Now implement the `smarter_and_query` function, based on the function `smarter_tokenize_and_preprocess` you defined above and accessing our new index `smarter_index`. You can start from copying the code for `and_query` from the last assignment. For that to work, you'll also have to copy the code for the `and_merge` function from the last assignment."
   ]
  },
  {
   "cell_type": "code",
   "execution_count": 20,
   "metadata": {
    "tags": []
   },
   "outputs": [],
   "source": [
    "# Smarter and_query based on the smarter tokenize and preprocess functions\n",
    "\n",
    "def and_merge(sorted_list1, sorted_list2):  \n",
    "    merged_list= []\n",
    "    index1 = 0\n",
    "    index2 = 0\n",
    "    size1 = len(sorted_list1)\n",
    "    size2 = len(sorted_list2)\n",
    "    seen_all_index = False\n",
    "    while seen_all_index == False:\n",
    "        if((size1 != index1) and (size2 != index2) ):\n",
    "            if sorted_list1[index1] == sorted_list2[index2]:\n",
    "                merged_list.append(sorted_list1[index1])\n",
    "                index1 +=1\n",
    "                index2 +=1\n",
    "                continue\n",
    "            if(sorted_list1[index1]>sorted_list2[index2]):\n",
    "                index2 +=1\n",
    "                continue\n",
    "            if(sorted_list2[index2]>sorted_list1[index1]):\n",
    "                index1 +=1\n",
    "                continue\n",
    "        else:\n",
    "            seen_all_index = True\n",
    "    return merged_list  \n",
    "\n",
    "def smarter_and_query(query_string):  \n",
    "    preproccesedTokens = smart_tokenize_and_preprocess(query_string)\n",
    "\n",
    "    posting_lists = []\n",
    "\n",
    "    for token in preproccesedTokens:\n",
    "        if(token in inverted_index):\n",
    "            posting_lists.append(smarter_index[token])\n",
    "\n",
    "    and_list = posting_lists[0]\n",
    "    for i in range(1, len(posting_lists)):\n",
    "        and_list = and_merge(and_list, posting_lists[i])\n",
    "    return and_list  "
   ]
  },
  {
   "cell_type": "markdown",
   "metadata": {},
   "source": [
    "### Task 2\n",
    "\n",
    "Run the query \"mutation of enzyme complexes\" with the new `smarter_and_query` function from task 1. Does it return paper *33055208*? Explain what our new smarter function specifically contributes to the result (as compared to our previous naive implementations for tokenization and preprocessing)?"
   ]
  },
  {
   "cell_type": "code",
   "execution_count": 21,
   "metadata": {
    "tags": []
   },
   "outputs": [
    {
     "name": "stdout",
     "output_type": "stream",
     "text": [
      "['mutat', 'of', 'enzym', 'complex']\n"
     ]
    },
    {
     "data": {
      "text/plain": [
       "[33014341,\n",
       " 33014620,\n",
       " 33023230,\n",
       " 33037049,\n",
       " 33040723,\n",
       " 33048983,\n",
       " 33052948,\n",
       " 33053321,\n",
       " 33055208,\n",
       " 33056978,\n",
       " 33057400,\n",
       " 33058871,\n",
       " 33068261,\n",
       " 33070870,\n",
       " 33092221,\n",
       " 33107822,\n",
       " 33122294,\n",
       " 33125859,\n",
       " 33126897,\n",
       " 33127861,\n",
       " 33152247,\n",
       " 33172890,\n",
       " 33176178,\n",
       " 33196685,\n",
       " 33202035,\n",
       " 33206170,\n",
       " 33235207,\n",
       " 33253435,\n",
       " 33264373,\n",
       " 33291532,\n",
       " 33295760,\n",
       " 33300026,\n",
       " 33304400,\n",
       " 33323411,\n",
       " 33340646,\n",
       " 33357431,\n",
       " 33386150,\n",
       " 33398001,\n",
       " 33401921,\n",
       " 33428378,\n",
       " 33434574,\n",
       " 33441663,\n",
       " 33450351,\n",
       " 33453165,\n",
       " 33525768,\n",
       " 33528563,\n",
       " 33532768,\n",
       " 33554132,\n",
       " 33565573,\n",
       " 33574254,\n",
       " 33583326,\n",
       " 33586135,\n",
       " 33588726,\n",
       " 33600043,\n",
       " 33630857,\n",
       " 33636637,\n",
       " 33639170,\n",
       " 33651967,\n",
       " 33655245,\n",
       " 33663878,\n",
       " 33665744,\n",
       " 33668198,\n",
       " 33676181,\n",
       " 33681704,\n",
       " 33682442,\n",
       " 33689684,\n",
       " 33708793,\n",
       " 33712450,\n",
       " 33729394,\n",
       " 33730245,\n",
       " 33754021,\n",
       " 33775828,\n",
       " 33779749,\n",
       " 33784401,\n",
       " 33784856,\n",
       " 33792302,\n",
       " 33836029,\n",
       " 33838354,\n",
       " 33840529,\n",
       " 33863288,\n",
       " 33876824,\n",
       " 33888601,\n",
       " 33893722,\n",
       " 33921405,\n",
       " 33940160,\n",
       " 33945229,\n",
       " 33960519,\n",
       " 33969420,\n",
       " 33972509,\n",
       " 33978746,\n",
       " 33981015,\n",
       " 33984310,\n",
       " 33992693]"
      ]
     },
     "execution_count": 21,
     "metadata": {},
     "output_type": "execute_result"
    }
   ],
   "source": [
    "print(smart_tokenize_and_preprocess(\"mutation of enzyme complexes\"))\n",
    "smarter_and_query(\"mutation of enzyme complexes\")  \n"
   ]
  },
  {
   "cell_type": "code",
   "execution_count": 22,
   "metadata": {},
   "outputs": [
    {
     "data": {
      "text/html": [
       "<strong><a href=http://dx.doi.org/10.1073/pnas.1920352117>A synthetic mimic of phosphodiesterase type 5 based on corona phase molecular recognition of single-walled carbon nanotubes.</a></strong><br>2020. Dong J, Lee MA, Rajan AG, Rahaman I, Sun JH, Park M, Salem DP, Strano MS<br>[ID: 33055208]"
      ],
      "text/plain": [
       "<IPython.core.display.HTML object>"
      ]
     },
     "metadata": {},
     "output_type": "display_data"
    }
   ],
   "source": [
    "display_summary(33055208)"
   ]
  },
  {
   "cell_type": "markdown",
   "metadata": {},
   "source": [
    "**Answer:** \n",
    "Our preprocessing (old) function previously did not make use of stemming, but as we have now implemented in our smarterpreprocess which uses a stemmer. This reduces words like \"mutation\" to \"mutat\" and \"complexes\" to \"complex,\" as they share the same meaning. In dataset 33055208,  \"mutation\" did not occur however 'mutations' did, it has now been shortened to \"mutat\" by the smarterpreprocess and now we can also capture the word mutation in our smarter_and_query. Similarly for, \"complexes,\" which did not occur in 33055208, however \"complex\" and \"complexed\" occur 33055208. With our smarter preprocess it is now stemmed to \"complex,\" resulting in its appearance in our smarter_and_query."
   ]
  },
  {
   "cell_type": "markdown",
   "metadata": {},
   "source": [
    "### Task 3\n",
    "\n",
    "Now we move to a different subject and use our old index again. That is, we **don't** use the smarter functions defined above for tasks 3 to 5!\n",
    "\n",
    "Create a function `tfidf(t,d)` that returns the tf-idf score of term `t` in document `d` by using `tf(t,d)`, `df(t)` and `num_documents` as defined above. To do this, first implement a function `idf(t)` to calculate the inverse document frequency, and then use this function to calculate the full tf-idf. Use the _add-one-smoothing_ version of idf, so we don't run into problems with terms that don't appear in the collection at all. The relevant formulas can be found on the lecture slides. Use tf-idf with plain (non-logarithmic) term frequency, as applied by scoring variant `ntn`. Test your function with the examples shown below. You can use the `log10(n)` function to calculate the base 10 logarithm.\n",
    "\n",
    "Again, use our old (non-smart) index for this task and the tasks below, and **not** the functions defined in tasks 1 and 2."
   ]
  },
  {
   "cell_type": "code",
   "execution_count": 23,
   "metadata": {
    "tags": []
   },
   "outputs": [
    {
     "name": "stdout",
     "output_type": "stream",
     "text": [
      "0.0\n",
      "0.14123984973343998\n",
      "1.6398442038686944\n",
      "0.0\n"
     ]
    }
   ],
   "source": [
    "\n",
    "def idf(t):\n",
    "    return float(log10((num_documents+1)/(df(t)+1)))\n",
    "\n",
    "def tfidf(t,d):\n",
    "    return tf(t,d)*idf(t)\n",
    "    \n",
    "\n",
    "\n",
    "\n",
    "print(tfidf('mutation', 33055208))\n",
    "print(tfidf('of', 33055208))\n",
    "print(tfidf('enzyme', 33055208))\n",
    "print(tfidf('complexes', 33055208))"
   ]
  },
  {
   "cell_type": "markdown",
   "metadata": {},
   "source": [
    "### Task 4\n",
    "\n",
    "Create a function `query_ntn_nnn(query_string)`, which accepts as input a single query string of one or more words, and returns or prints a list of (up to) 10 best matching documents, along with their score. Use _tf-idf_ to calculate document scores based on the query, applying variant `ntn.nnn`, as above (see the formula for the `ntn.nnn` version of scoring on the lecture slides). Use an auxiliary function `score_ntn_nnn` to calculate the score. The results should be shown in descending order by score.\n",
    "\n",
    "You can start by copying your functions `or_merge` and `or_query` from assignment 2, then expand that to rank the results, making use of the `tfidf(t,d)` function you created above.\n",
    "\n",
    "Demonstrate your function by giving it the exemplary query string \"mutation of enzyme complexes\"."
   ]
  },
  {
   "cell_type": "code",
   "execution_count": 24,
   "metadata": {},
   "outputs": [],
   "source": [
    "def merge_sorted_or(sortedList1, sortedList2):\n",
    "    mergeSortedList= []\n",
    "    index1 = 0\n",
    "    index2 = 0\n",
    "    size1 = len(sortedList1)\n",
    "    size2 = len(sortedList2)\n",
    "    seen_all_index = False\n",
    "    while seen_all_index == False:\n",
    "        if((size1 != index1) and (size2 != index2) ):\n",
    "            if sortedList1[index1] == sortedList2[index2]:\n",
    "                mergeSortedList.append(sortedList1[index1])\n",
    "                index1 +=1\n",
    "                index2 +=1\n",
    "                continue\n",
    "            if(sortedList1[index1]>sortedList2[index2]):\n",
    "                mergeSortedList.append(sortedList2[index2])\n",
    "                index2 +=1\n",
    "                continue\n",
    "            if(sortedList2[index2]>sortedList1[index1]):\n",
    "                mergeSortedList.append(sortedList1[index1])\n",
    "                index1 +=1\n",
    "                continue\n",
    "        \n",
    "        else:\n",
    "            if(size1 != index1):\n",
    "                mergeSortedList.append(sortedList1[index1])\n",
    "                index1+=1\n",
    "                continue\n",
    "            if(size2 != index2):\n",
    "                mergeSortedList.append(sortedList2[index2])\n",
    "                index2+=1\n",
    "                continue\n",
    "            else:\n",
    "                seen_all_index = True\n",
    "    return mergeSortedList\n",
    "            \n",
    "\n",
    "def query_or(input_query):\n",
    "    preproccesedTokens = preprocess(tokenize(input_query))\n",
    "    \n",
    "    posting_lists = []\n",
    "\n",
    "    for token in preproccesedTokens:\n",
    "        if(token in inverted_index):\n",
    "            posting_lists.append(inverted_index[token])\n",
    "            \n",
    "    currentQueryOr = posting_lists[0]\n",
    "    for i in range(1, len(posting_lists)):\n",
    "        currentQueryOr = merge_sorted_or(currentQueryOr, posting_lists[i])\n",
    "        \n",
    "    return currentQueryOr\n",
    "\n",
    "def score_ntn_nnn(tokens,d):\n",
    "    score = 0\n",
    "    for t in tokens:\n",
    "        score += tfidf(t,d)\n",
    "    return score\n",
    "    \n",
    "    \n",
    "\n",
    "def query_ntn_nnn(query_string):\n",
    "    scoredoc = {}\n",
    "    paper_or_docs = query_or(query_string)\n",
    "    preproccesedTokens = preprocess(tokenize(query_string))\n",
    "    for d in paper_or_docs:\n",
    "        scoredoc[d] =  score_ntn_nnn(preproccesedTokens,d)\n",
    "    sorted_scoredoc = sorted(scoredoc.items(), key=lambda x:x[1], reverse = True)\n",
    "    \n",
    "    top_10 = sorted_scoredoc[:10]\n",
    "    for q, s in top_10:\n",
    "        print(f\"Document ID: {q}, Score: {s}\")\n",
    "            \n",
    "        \n",
    "    \n",
    "    "
   ]
  },
  {
   "cell_type": "code",
   "execution_count": 25,
   "metadata": {
    "tags": []
   },
   "outputs": [
    {
     "name": "stdout",
     "output_type": "stream",
     "text": [
      "Document ID: 39073830, Score: 29.607075574012324\n",
      "Document ID: 17264471, Score: 22.553644894234456\n",
      "Document ID: 7165718, Score: 21.561934390741698\n",
      "Document ID: 10503276, Score: 21.523414431723484\n",
      "Document ID: 16666772, Score: 21.45921450002647\n",
      "Document ID: 1562739, Score: 20.421708296058004\n",
      "Document ID: 28270751, Score: 20.324470890964882\n",
      "Document ID: 26448454, Score: 20.285950931946672\n",
      "Document ID: 11234382, Score: 20.126113491841952\n",
      "Document ID: 11811950, Score: 18.46776339578783\n"
     ]
    }
   ],
   "source": [
    "# Example query:\n",
    "query_ntn_nnn(\"mutation of enzyme complexes\")"
   ]
  },
  {
   "cell_type": "markdown",
   "metadata": {},
   "source": [
    "### Task 5\n",
    "\n",
    "In this last task, you should create a second version of the query function from Task 4, called `query_ntc_ntc`. This second version should use, as its name suggests, variant `ntc.ntc` instead of `ntn.nnn`, and therefore apply the cosine similarity measure, in addition to applying _tf-idf_. For this, consult the formula for variant `nnc.nnc` on the lecture slides and adopt it to include the _idf_ metric (that is, add the `t` element of `ntc`). (You can drop the square root of |q| in the formula, as indicated on the slides.)\n",
    "\n",
    "As a first step, we can calculate beforehand the length of all document vectors (because they don't depend on the query) for document vectors consisting of _tf-idf_ values. The code below does just that, assuming that you defined the function `tfidf(t,d)` above (don't change this code block, just run it):"
   ]
  },
  {
   "cell_type": "code",
   "execution_count": 26,
   "metadata": {},
   "outputs": [],
   "source": [
    "tfidf_length_values = defaultdict(int)\n",
    "\n",
    "for doc_id in Summaries.keys():\n",
    "    l = 0\n",
    "    for t in tf_matrix[doc_id].keys():\n",
    "        l += tfidf(t,doc_id) ** 2\n",
    "    tfidf_length_values[doc_id] = sqrt(l)\n",
    "\n",
    "def tfidf_length(d):\n",
    "    return tfidf_length_values[d]"
   ]
  },
  {
   "cell_type": "markdown",
   "metadata": {},
   "source": [
    "We can now get the length of a document vector by calling `tfidf_length(d)`.\n",
    "\n",
    "Based on this, you can now implement `query_ntc_ntc` in the code block below. You should again first define an auxiliary function, called `score_ntc_ntc`. You can start by copy-pasting the code from Task 4.\n",
    "\n",
    "To output the results, use the provided `display_summary` function to make the output a bit more like the results page of a search engine. Lastly, demonstrate your `query_ntc_ntc` function with the same example query as above: \"mutation of enzyme complexes\""
   ]
  },
  {
   "cell_type": "code",
   "execution_count": 29,
   "metadata": {
    "tags": []
   },
   "outputs": [
    {
     "name": "stdout",
     "output_type": "stream",
     "text": [
      "Document ID: 34513841, Score: 0.5297682864247942\n"
     ]
    },
    {
     "data": {
      "text/html": [
       "<strong><a href=http://dx.doi.org/10.3389/fcell.2021.712931>Recognizing Pattern and Rule of Mutation Signatures Corresponding to Cancer Types.</a></strong><br>2021. Chen L, Zhou X, Zeng T, Pan X, Zhang YH, Huang T, Fang Z, Cai YD<br>[ID: 34513841]"
      ],
      "text/plain": [
       "<IPython.core.display.HTML object>"
      ]
     },
     "metadata": {},
     "output_type": "display_data"
    },
    {
     "name": "stdout",
     "output_type": "stream",
     "text": [
      "Document ID: 39073830, Score: 0.5288339481880096\n"
     ]
    },
    {
     "data": {
      "text/html": [
       "<strong><a href=http://dx.doi.org/10.1093/bib/bbae365>GloEC: a hierarchical-aware global model for predicting enzyme function.</a></strong><br>2024. Huang Y, Lin Y, Lan W, Huang C, Zhong C<br>[ID: 39073830]"
      ],
      "text/plain": [
       "<IPython.core.display.HTML object>"
      ]
     },
     "metadata": {},
     "output_type": "display_data"
    },
    {
     "name": "stdout",
     "output_type": "stream",
     "text": [
      "Document ID: 36342236, Score: 0.5068926288893287\n"
     ]
    },
    {
     "data": {
      "text/html": [
       "<strong><a href=http://dx.doi.org/10.1093/bioinformatics/btac721>ViMRT: a text-mining tool and search engine for automated virus mutation recognition.</a></strong><br>2023. Tong Y, Tan F, Huang H, Zhang Z, Zong H, Xie Y, Huang D, Cheng S, Wei Z, Fang M, Crabbe MJC, Wang Y, Zhang X<br>[ID: 36342236]"
      ],
      "text/plain": [
       "<IPython.core.display.HTML object>"
      ]
     },
     "metadata": {},
     "output_type": "display_data"
    },
    {
     "name": "stdout",
     "output_type": "stream",
     "text": [
      "Document ID: 17327177, Score: 0.4924810916867742\n"
     ]
    },
    {
     "data": {
      "text/html": [
       "<strong><a href=http://dx.doi.org/10.1016/S0091-679X(06)79025-2>Localization of protein complexes by pattern recognition.</a></strong><br>2007. Best C, Nickell S, Baumeister W<br>[ID: 17327177]"
      ],
      "text/plain": [
       "<IPython.core.display.HTML object>"
      ]
     },
     "metadata": {},
     "output_type": "display_data"
    },
    {
     "name": "stdout",
     "output_type": "stream",
     "text": [
      "Document ID: 6967885, Score: 0.4811811294676484\n"
     ]
    },
    {
     "data": {
      "text/html": [
       "<strong>Recognition of immune complexes and antigen in vivo.</strong><br>1980. Woda BA, Balint JP, Feldman JD<br>[ID: 6967885]"
      ],
      "text/plain": [
       "<IPython.core.display.HTML object>"
      ]
     },
     "metadata": {},
     "output_type": "display_data"
    },
    {
     "name": "stdout",
     "output_type": "stream",
     "text": [
      "Document ID: 10084112, Score: 0.4352568229882278\n"
     ]
    },
    {
     "data": {
      "text/html": [
       "<strong><a href=http://dx.doi.org/10.1016/s1050-3862(98)00029-1>Enzymatic methods for mutation scanning.</a></strong><br>1999. Taylor GR, Deeble J<br>[ID: 10084112]"
      ],
      "text/plain": [
       "<IPython.core.display.HTML object>"
      ]
     },
     "metadata": {},
     "output_type": "display_data"
    },
    {
     "name": "stdout",
     "output_type": "stream",
     "text": [
      "Document ID: 10503276, Score: 0.4345217851712705\n"
     ]
    },
    {
     "data": {
      "text/html": [
       "<strong><a href=http://dx.doi.org/10.1080/003130299105115>The detection of enzyme A of Yersinia enterocolitica by a disc diffusion method.</a></strong><br>1999. Pham JN, Bell SM, Martin L, Carniel E<br>[ID: 10503276]"
      ],
      "text/plain": [
       "<IPython.core.display.HTML object>"
      ]
     },
     "metadata": {},
     "output_type": "display_data"
    },
    {
     "name": "stdout",
     "output_type": "stream",
     "text": [
      "Document ID: 16337168, Score: 0.43301533342012316\n"
     ]
    },
    {
     "data": {
      "text/html": [
       "<strong><a href=http://dx.doi.org/10.1016/j.cca.2005.10.024>The influence of spacer-containing enzyme conjugate on the sensitivity and specificity of enzyme immunoassays for hapten.</a></strong><br>2006. Basu A, Nara S, Chaube SK, Rangari K, Kariya KP, Shrivastav TG<br>[ID: 16337168]"
      ],
      "text/plain": [
       "<IPython.core.display.HTML object>"
      ]
     },
     "metadata": {},
     "output_type": "display_data"
    },
    {
     "name": "stdout",
     "output_type": "stream",
     "text": [
      "Document ID: 35685137, Score: 0.429952610485576\n"
     ]
    },
    {
     "data": {
      "text/html": [
       "<strong><a href=http://dx.doi.org/10.1155/2022/6569279>Online English Teaching System under the Background of Epidemic Situation Based on Intelligent Feature Recognition Technology.</a></strong><br>2022. Chen L, Wang W<br>[ID: 35685137]"
      ],
      "text/plain": [
       "<IPython.core.display.HTML object>"
      ]
     },
     "metadata": {},
     "output_type": "display_data"
    },
    {
     "name": "stdout",
     "output_type": "stream",
     "text": [
      "Document ID: 38196066, Score: 0.41789739277940524\n"
     ]
    },
    {
     "data": {
      "text/html": [
       "<strong><a href=http://dx.doi.org/10.1002/anie.202318533>Bidirectional Regulation of Intracellular Enzyme Activity Using Light-Driven Nano-Inhibitors.</a></strong><br>2024. Zhao Y, Huang Q, Li Q, Chen Z, Liu Y<br>[ID: 38196066]"
      ],
      "text/plain": [
       "<IPython.core.display.HTML object>"
      ]
     },
     "metadata": {},
     "output_type": "display_data"
    }
   ],
   "source": [
    "# Your code here:\n",
    "def score_ntc_ntc(tokens,d, weightq):\n",
    "    scoreDoc = 0\n",
    "    tfidf_q_length = 0\n",
    "    for token in tokens:\n",
    "        if(token in tf_matrix[d]):\n",
    "            tfidf_q_length += weightq[token] ** 2\n",
    "            scoreDoc += weightq[token] *tfidf(token, d)\n",
    "    if scoreDoc == 0 or tfidf_q_length == 0:\n",
    "        return 0\n",
    "    return scoreDoc/(tfidf_length(d)* tfidf_q_length**(0.5))\n",
    "\n",
    "def query_ntc_ntc(q):\n",
    "    scoresDoc = {}\n",
    "    postinglist = query_or(q)\n",
    "    for d in postinglist:\n",
    "        scoresDoc[d] = 0\n",
    "    preproccesedTokens = preprocess(tokenize(q))\n",
    "    weightst_q = {}\n",
    "    for token in preproccesedTokens:\n",
    "        weightst_q[token] = idf(token)\n",
    "    for d in postinglist:\n",
    "        scoresDoc[d] += score_ntc_ntc(preproccesedTokens,d, weightst_q)\n",
    "\n",
    "\n",
    "    sorted_scoredoc = sorted(scoresDoc.items(), key=lambda x:x[1], reverse = True)\n",
    "    \n",
    "    top_10 = sorted_scoredoc[:10]\n",
    "    for q, s in top_10:\n",
    "        print(f\"Document ID: {q}, Score: {s}\")\n",
    "        display_summary(q)\n",
    "        \n",
    "        \n",
    "\n",
    "# Example query:\n",
    "query_ntc_ntc(\"mutation of enzyme complexes\")"
   ]
  },
  {
   "cell_type": "markdown",
   "metadata": {},
   "source": [
    "# Submission"
   ]
  },
  {
   "cell_type": "markdown",
   "metadata": {},
   "source": [
    "Submit the answers to the assignment via Canvas as a modified version of this Notebook file (file with `.ipynb` extension) that includes your code and your answers.\n",
    "\n",
    "Before submitting, restart the kernel and re-run the complete code (**Kernel > Restart & Run All**), and then check whether your assignment code still works as expected.\n",
    "\n",
    "Don't forget to add your name, and remember that the assignments have to be done **individually**, and that code sharing or copying are **strictly forbidden** and will be punished."
   ]
  }
 ],
 "metadata": {
  "kernelspec": {
   "display_name": "Python 3 (ipykernel)",
   "language": "python",
   "name": "python3"
  },
  "language_info": {
   "codemirror_mode": {
    "name": "ipython",
    "version": 3
   },
   "file_extension": ".py",
   "mimetype": "text/x-python",
   "name": "python",
   "nbconvert_exporter": "python",
   "pygments_lexer": "ipython3",
   "version": "3.9.18"
  }
 },
 "nbformat": 4,
 "nbformat_minor": 4
}
